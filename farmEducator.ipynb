{
  "nbformat": 4,
  "nbformat_minor": 0,
  "metadata": {
    "colab": {
      "provenance": [],
      "authorship_tag": "ABX9TyMW+nf66SKIU1d8QGk3XMmE",
      "include_colab_link": true
    },
    "kernelspec": {
      "name": "python3",
      "display_name": "Python 3"
    },
    "language_info": {
      "name": "python"
    }
  },
  "cells": [
    {
      "cell_type": "markdown",
      "metadata": {
        "id": "view-in-github",
        "colab_type": "text"
      },
      "source": [
        "<a href=\"https://colab.research.google.com/github/wakoTheDev/fARMaDVICE/blob/main/farmEducator.ipynb\" target=\"_parent\"><img src=\"https://colab.research.google.com/assets/colab-badge.svg\" alt=\"Open In Colab\"/></a>"
      ]
    },
    {
      "cell_type": "code",
      "source": [
        "import google.generativeai as genai\n",
        "from google.colab import userdata\n",
        "from IPython.display import Markdown\n",
        "import os"
      ],
      "metadata": {
        "id": "zTSl0rQQBp9P"
      },
      "execution_count": null,
      "outputs": []
    },
    {
      "cell_type": "code",
      "source": [
        "GOOGLE_API_KEY= userdata.get('PROJECT_API_KEY')\n",
        "generation_config = {\n",
        "  \"temperature\": 0.5,\n",
        "  \"top_p\": 0.95,\n",
        "  \"top_k\": 64,\n",
        "  \"max_output_tokens\": 8192,\n",
        "  \"response_mime_type\": \"text/plain\",\n",
        "}"
      ],
      "metadata": {
        "id": "WDnkEamZSgjV"
      },
      "execution_count": null,
      "outputs": []
    },
    {
      "cell_type": "code",
      "source": [
        "def Model(text,image,api_key=GOOGLE_API_KEY):\n",
        "  #configuration of the api key\n",
        "  genai.configure(api_key=api_key)\n",
        "\n",
        "  #preprocesing the image before feeding the model\n",
        "  image_to_describe = genai.upload_file(path=image,display_name='image_to_describe')\n",
        "  prompt = [text,image_to_describe]\n",
        "\n",
        "  #model selection\n",
        "  model = genai.GenerativeModel(model_name='gemini-1.5-flash',\n",
        "                                generation_config=generation_config,\n",
        "                                )\n",
        "\n",
        "  #generate text from the model\n",
        "  response = model.generate_content(prompt,stream=True)\n",
        "  if response:\n",
        "    response.resolve()\n",
        "    return Markdown(response.text)\n",
        "  else:\n",
        "    response.prompt_feedback\n",
        "\n",
        "\n",
        "\n",
        "\n"
      ],
      "metadata": {
        "id": "PQY_MdLrMDDO"
      },
      "execution_count": null,
      "outputs": []
    },
    {
      "cell_type": "code",
      "source": [
        "text = 'Describe what is in the picture'\n",
        "image = '/content/Screenshot (2).png'\n",
        "Model(text,image)"
      ],
      "metadata": {
        "colab": {
          "base_uri": "https://localhost:8080/",
          "height": 324
        },
        "id": "bB39nqG3TIXO",
        "outputId": "e93194f7-354e-4731-e612-99e820859f67"
      },
      "execution_count": null,
      "outputs": [
        {
          "output_type": "execute_result",
          "data": {
            "text/plain": [
              "<IPython.core.display.Markdown object>"
            ],
            "text/markdown": "The picture shows a computer screen with a web browser open. The browser is displaying a message that says \"Syncing User Courses from ABN Unisol...\". The message is followed by a green box that says \"Success! Enrolled units fetched successfully.\" There is also a blue chat icon in the bottom right corner of the browser window. The taskbar at the bottom of the screen shows various icons for different programs, including Microsoft Edge, Microsoft Word, Microsoft Excel, Microsoft PowerPoint, Microsoft Outlook, and Microsoft Access. The desktop background is a gray stone texture. The time on the taskbar is 6:21 AM and the date is 9/15/2022.  There is a small icon of a shield in the top left corner of the browser window. There are two small pictures of people in the top left corner of the browser window. The pictures are circular and show a man and a woman. The man is wearing a blue shirt and the woman is wearing a red shirt. The text in the shield says \"Zetech Digital School\". There is a small icon of a bell in the top right corner of the browser window. There is a small icon of a chat bubble in the top right corner of the browser window. There is a small icon of a folder in the top right corner of the browser window. The text in the folder icon says \"BW\". There is a small icon of a folder in the bottom left corner of the browser window. The text in the folder icon says \"SOFT ROCK\". There is a small icon of a folder in the bottom center of the browser window. The text in the folder icon says \"PHOTO\". There is a small icon of a folder in the bottom right corner of the browser window. The text in the folder icon says \"HOME\"."
          },
          "metadata": {},
          "execution_count": 7
        }
      ]
    },
    {
      "cell_type": "code",
      "source": [
        "import pickle"
      ],
      "metadata": {
        "id": "kTqjLIRnUEdr"
      },
      "execution_count": null,
      "outputs": []
    },
    {
      "cell_type": "code",
      "source": [
        "model_pkl_file = \"farmEducator.pkl\"\n",
        "\n",
        "with open(model_pkl_file, 'wb') as file:\n",
        "    pickle.dump(Model, file)"
      ],
      "metadata": {
        "id": "Jcydd_nN9Lr1"
      },
      "execution_count": null,
      "outputs": []
    },
    {
      "cell_type": "code",
      "source": [],
      "metadata": {
        "id": "i7VZO__b-Adx"
      },
      "execution_count": null,
      "outputs": []
    }
  ]
}